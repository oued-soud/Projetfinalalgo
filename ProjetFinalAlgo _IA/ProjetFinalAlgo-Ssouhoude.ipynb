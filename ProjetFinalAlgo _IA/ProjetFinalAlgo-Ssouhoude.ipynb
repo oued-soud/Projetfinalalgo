{
 "cells": [
  {
   "cell_type": "markdown",
   "metadata": {},
   "source": [
    "## Projet final algorithmique\n",
    "### Objectifs\n",
    "* Decouvrir les librairies pandas, networkx, folium\n",
    "* Comprendre les ADT et implementer une File, une Pile\n",
    "https://en.wikipedia.org/wiki/Abstract_data_type\n",
    "* Comprendre les methodes de parcours de graphe\n",
    "* BFS ou parcours en largeur https://fr.wikipedia.org/wiki/Algorithme_de_parcours_en_largeur\n",
    "* DFS ou parcours en profondeur\n",
    "https://fr.wikipedia.org/wiki/Algorithme_de_parcours_en_profondeur\n",
    "* Comprendre les heuristiques de search en IA\n",
    "https://online-learning.harvard.edu/course/cs50s-introduction-artificial-intelligence-python\n",
    "* Cours IA\n",
    "https://cs50.harvard.edu/ai/2020/\n",
    "https://courses.edx.org/courses/course-v1:HarvardX+CS50AI+1T2020/courseware/3b4d945d89eb40bcad81746770a81c3b/918082613c254e2da55e31d1894bc4be/?activate_block_id=block-v1%3AHarvardX%2BCS50AI%2B1T2020%2Btype%40sequential%2Bblock%40918082613c254e2da55e31d1894bc4be"
   ]
  },
  {
   "cell_type": "markdown",
   "metadata": {},
   "source": [
    "### Partie 1\n",
    "* Decouvrir les librairies pandas, networkx, folium"
   ]
  },
  {
   "cell_type": "code",
   "execution_count": 821,
   "metadata": {},
   "outputs": [],
   "source": [
    "import pandas as pd\n",
    "import networkx as nx\n",
    "import matplotlib.pyplot as plt\n",
    "import csv\n",
    "import folium\n",
    "\n",
    "%matplotlib inline"
   ]
  },
  {
   "cell_type": "markdown",
   "metadata": {},
   "source": [
    "### Lire le fichier de graphe avec pandas en utilisant read_csv\n",
    "* Documentation sur pandas: http://www.python-simple.com/python-pandas/dataframes-indexation.php"
   ]
  },
  {
   "cell_type": "markdown",
   "metadata": {},
   "source": [
    "#### TODO: Utilisez la bibliothéque pandas pour lire les fichiers transport-nodes.csv et transport-relationships.csv"
   ]
  },
  {
   "cell_type": "code",
   "execution_count": 822,
   "metadata": {},
   "outputs": [
    {
     "data": {
      "text/html": [
       "<div>\n",
       "<style scoped>\n",
       "    .dataframe tbody tr th:only-of-type {\n",
       "        vertical-align: middle;\n",
       "    }\n",
       "\n",
       "    .dataframe tbody tr th {\n",
       "        vertical-align: top;\n",
       "    }\n",
       "\n",
       "    .dataframe thead th {\n",
       "        text-align: right;\n",
       "    }\n",
       "</style>\n",
       "<table border=\"1\" class=\"dataframe\">\n",
       "  <thead>\n",
       "    <tr style=\"text-align: right;\">\n",
       "      <th></th>\n",
       "      <th>id</th>\n",
       "      <th>latitude</th>\n",
       "      <th>longitude</th>\n",
       "      <th>population</th>\n",
       "    </tr>\n",
       "  </thead>\n",
       "  <tbody>\n",
       "    <tr>\n",
       "      <td>0</td>\n",
       "      <td>Amsterdam</td>\n",
       "      <td>52.379189</td>\n",
       "      <td>4.899431</td>\n",
       "      <td>821752</td>\n",
       "    </tr>\n",
       "    <tr>\n",
       "      <td>1</td>\n",
       "      <td>Utrecht</td>\n",
       "      <td>52.092876</td>\n",
       "      <td>5.104480</td>\n",
       "      <td>334176</td>\n",
       "    </tr>\n",
       "    <tr>\n",
       "      <td>2</td>\n",
       "      <td>Den Haag</td>\n",
       "      <td>52.078663</td>\n",
       "      <td>4.288788</td>\n",
       "      <td>514861</td>\n",
       "    </tr>\n",
       "    <tr>\n",
       "      <td>3</td>\n",
       "      <td>Immingham</td>\n",
       "      <td>53.612390</td>\n",
       "      <td>-0.222190</td>\n",
       "      <td>9642</td>\n",
       "    </tr>\n",
       "    <tr>\n",
       "      <td>4</td>\n",
       "      <td>Doncaster</td>\n",
       "      <td>53.522850</td>\n",
       "      <td>-1.131160</td>\n",
       "      <td>302400</td>\n",
       "    </tr>\n",
       "    <tr>\n",
       "      <td>5</td>\n",
       "      <td>Hoek van Holland</td>\n",
       "      <td>51.977500</td>\n",
       "      <td>4.133330</td>\n",
       "      <td>9382</td>\n",
       "    </tr>\n",
       "    <tr>\n",
       "      <td>6</td>\n",
       "      <td>Felixstowe</td>\n",
       "      <td>51.963750</td>\n",
       "      <td>1.351100</td>\n",
       "      <td>23689</td>\n",
       "    </tr>\n",
       "    <tr>\n",
       "      <td>7</td>\n",
       "      <td>Ipswich</td>\n",
       "      <td>52.059170</td>\n",
       "      <td>1.155450</td>\n",
       "      <td>133384</td>\n",
       "    </tr>\n",
       "    <tr>\n",
       "      <td>8</td>\n",
       "      <td>Colchester</td>\n",
       "      <td>51.889210</td>\n",
       "      <td>0.904210</td>\n",
       "      <td>104390</td>\n",
       "    </tr>\n",
       "    <tr>\n",
       "      <td>9</td>\n",
       "      <td>London</td>\n",
       "      <td>51.509865</td>\n",
       "      <td>-0.118092</td>\n",
       "      <td>8787892</td>\n",
       "    </tr>\n",
       "    <tr>\n",
       "      <td>10</td>\n",
       "      <td>Rotterdam</td>\n",
       "      <td>51.922500</td>\n",
       "      <td>4.479170</td>\n",
       "      <td>623652</td>\n",
       "    </tr>\n",
       "    <tr>\n",
       "      <td>11</td>\n",
       "      <td>Gouda</td>\n",
       "      <td>52.016670</td>\n",
       "      <td>4.708330</td>\n",
       "      <td>70939</td>\n",
       "    </tr>\n",
       "  </tbody>\n",
       "</table>\n",
       "</div>"
      ],
      "text/plain": [
       "                  id   latitude  longitude  population\n",
       "0          Amsterdam  52.379189   4.899431      821752\n",
       "1            Utrecht  52.092876   5.104480      334176\n",
       "2           Den Haag  52.078663   4.288788      514861\n",
       "3          Immingham  53.612390  -0.222190        9642\n",
       "4          Doncaster  53.522850  -1.131160      302400\n",
       "5   Hoek van Holland  51.977500   4.133330        9382\n",
       "6         Felixstowe  51.963750   1.351100       23689\n",
       "7            Ipswich  52.059170   1.155450      133384\n",
       "8         Colchester  51.889210   0.904210      104390\n",
       "9             London  51.509865  -0.118092     8787892\n",
       "10         Rotterdam  51.922500   4.479170      623652\n",
       "11             Gouda  52.016670   4.708330       70939"
      ]
     },
     "execution_count": 822,
     "metadata": {},
     "output_type": "execute_result"
    }
   ],
   "source": [
    "transport_nodes = pd.read_csv(\"data/transport-nodes.csv\")\n",
    "transport_nodes"
   ]
  },
  {
   "cell_type": "code",
   "execution_count": 823,
   "metadata": {},
   "outputs": [
    {
     "data": {
      "text/html": [
       "<div>\n",
       "<style scoped>\n",
       "    .dataframe tbody tr th:only-of-type {\n",
       "        vertical-align: middle;\n",
       "    }\n",
       "\n",
       "    .dataframe tbody tr th {\n",
       "        vertical-align: top;\n",
       "    }\n",
       "\n",
       "    .dataframe thead th {\n",
       "        text-align: right;\n",
       "    }\n",
       "</style>\n",
       "<table border=\"1\" class=\"dataframe\">\n",
       "  <thead>\n",
       "    <tr style=\"text-align: right;\">\n",
       "      <th></th>\n",
       "      <th>src</th>\n",
       "      <th>dst</th>\n",
       "      <th>relationship</th>\n",
       "      <th>cost</th>\n",
       "    </tr>\n",
       "  </thead>\n",
       "  <tbody>\n",
       "    <tr>\n",
       "      <td>0</td>\n",
       "      <td>Amsterdam</td>\n",
       "      <td>Utrecht</td>\n",
       "      <td>EROAD</td>\n",
       "      <td>46</td>\n",
       "    </tr>\n",
       "    <tr>\n",
       "      <td>1</td>\n",
       "      <td>Amsterdam</td>\n",
       "      <td>Den Haag</td>\n",
       "      <td>EROAD</td>\n",
       "      <td>59</td>\n",
       "    </tr>\n",
       "    <tr>\n",
       "      <td>2</td>\n",
       "      <td>Den Haag</td>\n",
       "      <td>Rotterdam</td>\n",
       "      <td>EROAD</td>\n",
       "      <td>26</td>\n",
       "    </tr>\n",
       "    <tr>\n",
       "      <td>3</td>\n",
       "      <td>Amsterdam</td>\n",
       "      <td>Immingham</td>\n",
       "      <td>EROAD</td>\n",
       "      <td>369</td>\n",
       "    </tr>\n",
       "    <tr>\n",
       "      <td>4</td>\n",
       "      <td>Immingham</td>\n",
       "      <td>Doncaster</td>\n",
       "      <td>EROAD</td>\n",
       "      <td>74</td>\n",
       "    </tr>\n",
       "    <tr>\n",
       "      <td>5</td>\n",
       "      <td>Doncaster</td>\n",
       "      <td>London</td>\n",
       "      <td>EROAD</td>\n",
       "      <td>277</td>\n",
       "    </tr>\n",
       "    <tr>\n",
       "      <td>6</td>\n",
       "      <td>Hoek van Holland</td>\n",
       "      <td>Den Haag</td>\n",
       "      <td>EROAD</td>\n",
       "      <td>27</td>\n",
       "    </tr>\n",
       "    <tr>\n",
       "      <td>7</td>\n",
       "      <td>Felixstowe</td>\n",
       "      <td>Hoek van Holland</td>\n",
       "      <td>EROAD</td>\n",
       "      <td>207</td>\n",
       "    </tr>\n",
       "    <tr>\n",
       "      <td>8</td>\n",
       "      <td>Ipswich</td>\n",
       "      <td>Felixstowe</td>\n",
       "      <td>EROAD</td>\n",
       "      <td>22</td>\n",
       "    </tr>\n",
       "    <tr>\n",
       "      <td>9</td>\n",
       "      <td>Colchester</td>\n",
       "      <td>Ipswich</td>\n",
       "      <td>EROAD</td>\n",
       "      <td>32</td>\n",
       "    </tr>\n",
       "    <tr>\n",
       "      <td>10</td>\n",
       "      <td>London</td>\n",
       "      <td>Colchester</td>\n",
       "      <td>EROAD</td>\n",
       "      <td>106</td>\n",
       "    </tr>\n",
       "    <tr>\n",
       "      <td>11</td>\n",
       "      <td>Gouda</td>\n",
       "      <td>Rotterdam</td>\n",
       "      <td>EROAD</td>\n",
       "      <td>25</td>\n",
       "    </tr>\n",
       "    <tr>\n",
       "      <td>12</td>\n",
       "      <td>Gouda</td>\n",
       "      <td>Utrecht</td>\n",
       "      <td>EROAD</td>\n",
       "      <td>35</td>\n",
       "    </tr>\n",
       "    <tr>\n",
       "      <td>13</td>\n",
       "      <td>Den Haag</td>\n",
       "      <td>Gouda</td>\n",
       "      <td>EROAD</td>\n",
       "      <td>32</td>\n",
       "    </tr>\n",
       "    <tr>\n",
       "      <td>14</td>\n",
       "      <td>Hoek van Holland</td>\n",
       "      <td>Rotterdam</td>\n",
       "      <td>EROAD</td>\n",
       "      <td>33</td>\n",
       "    </tr>\n",
       "  </tbody>\n",
       "</table>\n",
       "</div>"
      ],
      "text/plain": [
       "                 src               dst relationship  cost\n",
       "0          Amsterdam           Utrecht        EROAD    46\n",
       "1          Amsterdam          Den Haag        EROAD    59\n",
       "2           Den Haag         Rotterdam        EROAD    26\n",
       "3          Amsterdam         Immingham        EROAD   369\n",
       "4          Immingham         Doncaster        EROAD    74\n",
       "5          Doncaster            London        EROAD   277\n",
       "6   Hoek van Holland          Den Haag        EROAD    27\n",
       "7         Felixstowe  Hoek van Holland        EROAD   207\n",
       "8            Ipswich        Felixstowe        EROAD    22\n",
       "9         Colchester           Ipswich        EROAD    32\n",
       "10            London        Colchester        EROAD   106\n",
       "11             Gouda         Rotterdam        EROAD    25\n",
       "12             Gouda           Utrecht        EROAD    35\n",
       "13          Den Haag             Gouda        EROAD    32\n",
       "14  Hoek van Holland         Rotterdam        EROAD    33"
      ]
     },
     "execution_count": 823,
     "metadata": {},
     "output_type": "execute_result"
    }
   ],
   "source": [
    "transport_arcs = pd.read_csv(\"data/transport-relationships.csv\")\n",
    "transport_arcs "
   ]
  },
  {
   "cell_type": "code",
   "execution_count": 824,
   "metadata": {},
   "outputs": [
    {
     "data": {
      "image/png": "[encoded data removed]",
      "text/plain": [
       "<Figure size 432x288 with 1 Axes>"
      ]
     },
     "metadata": {},
     "output_type": "display_data"
    }
   ],
   "source": [
    "Graphe=nx.from_pandas_dataframe(transport_arcs,source= 'src',target='dst',edge_attr=['relationship','cost'])\n",
    "nx.draw(Graphe)\n",
    "plt.show()\n"
   ]
  },
  {
   "cell_type": "markdown",
   "metadata": {},
   "source": [
    "### TODO: Construire le graphe et le visualiser  avec la fonction from_pandas_dataframe de networkx\n",
    "https://networkx.github.io/\n",
    "* Dessiner le graphe avec la fonction draw de networkX"
   ]
  },
  {
   "attachments": {
    "Capture%20d%E2%80%99e%CC%81cran%202020-05-15%20a%CC%80%2022.27.50.png": {
     "image/png": "[encoded data removed]"
    }
   },
   "cell_type": "markdown",
   "metadata": {},
   "source": [
    "![Capture%20d%E2%80%99e%CC%81cran%202020-05-15%20a%CC%80%2022.27.50.png](attachment:Capture%20d%E2%80%99e%CC%81cran%202020-05-15%20a%CC%80%2022.27.50.png)"
   ]
  },
  {
   "cell_type": "markdown",
   "metadata": {},
   "source": [
    "### TODO: Ajouter des attributs longitude et latitude aux noeuds avec Networkx en utilisant:\n",
    "* le dictionnaire \"node\" de networkx qui contient les noeuds\n",
    "* le dataframe transportnode defini plus haut\n",
    "* Des exemples d'utilisation de la fonction set_node_attributes\n",
    "https://www.programcreek.com/python/example/89530/networkx.set_node_attributes"
   ]
  },
  {
   "cell_type": "code",
   "execution_count": 825,
   "metadata": {},
   "outputs": [
    {
     "data": {
      "text/plain": [
       "{'Amsterdam': {},\n",
       " 'Utrecht': {},\n",
       " 'Den Haag': {},\n",
       " 'Rotterdam': {},\n",
       " 'Immingham': {},\n",
       " 'Doncaster': {},\n",
       " 'London': {},\n",
       " 'Hoek van Holland': {},\n",
       " 'Felixstowe': {},\n",
       " 'Ipswich': {},\n",
       " 'Colchester': {},\n",
       " 'Gouda': {}}"
      ]
     },
     "execution_count": 825,
     "metadata": {},
     "output_type": "execute_result"
    }
   ],
   "source": [
    "dict(Graphe.node)"
   ]
  },
  {
   "cell_type": "code",
   "execution_count": 826,
   "metadata": {},
   "outputs": [],
   "source": [
    "'''\n",
    "Ajouter des attributs\n",
    "Inputs: \n",
    "    Un graphe, \n",
    "    un dataframe contenant les données, \n",
    "    nom de l'attribut, \n",
    "    le nom de la colonne index du dataframe\n",
    "Pas d'output:\n",
    "Utiilisez la fonction set_node_attributes de networkx\n",
    "\n",
    "'''\n",
    "def ajouterAttribut(myGraphe,dfnoeuds, nomAttribut,nomIndex):\n",
    "    \n",
    "    Index = list(dfnoeuds[nomIndex])\n",
    "    Attribut = list(dfnoeuds[nomAttribut])\n",
    "    name = dict(zip(Index,Attribut))\n",
    "    nx.set_node_attributes(myGraphe, name,nomAttribut)\n",
    "    "
   ]
  },
  {
   "cell_type": "code",
   "execution_count": 827,
   "metadata": {},
   "outputs": [],
   "source": [
    "ajouterAttribut(Graphe,transport_nodes,'latitude','id')\n",
    "ajouterAttribut(Graphe,transport_nodes,'longitude','id')\n",
    "ajouterAttribut(Graphe,transport_nodes,'population','id')"
   ]
  },
  {
   "cell_type": "code",
   "execution_count": 828,
   "metadata": {},
   "outputs": [
    {
     "data": {
      "text/plain": [
       "{'Amsterdam': {'latitude': 52.379189000000004,\n",
       "  'longitude': 4.899431,\n",
       "  'population': 821752},\n",
       " 'Utrecht': {'latitude': 52.092876000000004,\n",
       "  'longitude': 5.104480000000001,\n",
       "  'population': 334176},\n",
       " 'Den Haag': {'latitude': 52.078663,\n",
       "  'longitude': 4.288787999999999,\n",
       "  'population': 514861},\n",
       " 'Rotterdam': {'latitude': 51.9225,\n",
       "  'longitude': 4.47917,\n",
       "  'population': 623652},\n",
       " 'Immingham': {'latitude': 53.612390000000005,\n",
       "  'longitude': -0.22219,\n",
       "  'population': 9642},\n",
       " 'Doncaster': {'latitude': 53.52285,\n",
       "  'longitude': -1.13116,\n",
       "  'population': 302400},\n",
       " 'London': {'latitude': 51.509865000000005,\n",
       "  'longitude': -0.118092,\n",
       "  'population': 8787892},\n",
       " 'Hoek van Holland': {'latitude': 51.9775,\n",
       "  'longitude': 4.13333,\n",
       "  'population': 9382},\n",
       " 'Felixstowe': {'latitude': 51.96375,\n",
       "  'longitude': 1.3511,\n",
       "  'population': 23689},\n",
       " 'Ipswich': {'latitude': 52.05917, 'longitude': 1.15545, 'population': 133384},\n",
       " 'Colchester': {'latitude': 51.88921,\n",
       "  'longitude': 0.9042100000000001,\n",
       "  'population': 104390},\n",
       " 'Gouda': {'latitude': 52.01667, 'longitude': 4.70833, 'population': 70939}}"
      ]
     },
     "execution_count": 828,
     "metadata": {},
     "output_type": "execute_result"
    }
   ],
   "source": [
    "dict(Graphe.nodes)"
   ]
  },
  {
   "cell_type": "code",
   "execution_count": 829,
   "metadata": {},
   "outputs": [
    {
     "data": {
      "text/plain": [
       "{('Amsterdam', 'Utrecht'): {'relationship': 'EROAD', 'cost': 46},\n",
       " ('Amsterdam', 'Den Haag'): {'relationship': 'EROAD', 'cost': 59},\n",
       " ('Amsterdam', 'Immingham'): {'relationship': 'EROAD', 'cost': 369},\n",
       " ('Utrecht', 'Gouda'): {'relationship': 'EROAD', 'cost': 35},\n",
       " ('Den Haag', 'Rotterdam'): {'relationship': 'EROAD', 'cost': 26},\n",
       " ('Den Haag', 'Hoek van Holland'): {'relationship': 'EROAD', 'cost': 27},\n",
       " ('Den Haag', 'Gouda'): {'relationship': 'EROAD', 'cost': 32},\n",
       " ('Rotterdam', 'Gouda'): {'relationship': 'EROAD', 'cost': 25},\n",
       " ('Rotterdam', 'Hoek van Holland'): {'relationship': 'EROAD', 'cost': 33},\n",
       " ('Immingham', 'Doncaster'): {'relationship': 'EROAD', 'cost': 74},\n",
       " ('Doncaster', 'London'): {'relationship': 'EROAD', 'cost': 277},\n",
       " ('London', 'Colchester'): {'relationship': 'EROAD', 'cost': 106},\n",
       " ('Hoek van Holland', 'Felixstowe'): {'relationship': 'EROAD', 'cost': 207},\n",
       " ('Felixstowe', 'Ipswich'): {'relationship': 'EROAD', 'cost': 22},\n",
       " ('Ipswich', 'Colchester'): {'relationship': 'EROAD', 'cost': 32}}"
      ]
     },
     "execution_count": 829,
     "metadata": {},
     "output_type": "execute_result"
    }
   ],
   "source": [
    "dict(Graphe.edges)"
   ]
  },
  {
   "cell_type": "markdown",
   "metadata": {},
   "source": [
    "### Representer les noeuds sur une carte avec Folium"
   ]
  },
  {
   "cell_type": "code",
   "execution_count": 830,
   "metadata": {},
   "outputs": [],
   "source": [
    "import folium\n",
    "'''\n",
    "On construit le Map avec une location par defaut\n",
    "'''\n",
    "basemap = folium.Map(\n",
    "    location=[52.3791890, 4.899431],\n",
    "    zoom_start=6,\n",
    "    tiles='openstreetmap'\n",
    ")\n"
   ]
  },
  {
   "cell_type": "code",
   "execution_count": 831,
   "metadata": {},
   "outputs": [
    {
     "data": {
      "text/html": [
       "<div style=\"width:100%;\"><div style=\"position:relative;width:100%;height:0;padding-bottom:60%;\"><span style=\"color:#565656\">Make this Notebook Trusted to load map: File -> Trust Notebook</span><iframe src=\"about:blank\" style=\"position:absolute;width:100%;height:100%;left:0;top:0;border:none !important;\" data-html=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 onload=\"this.contentDocument.open();this.contentDocument.write(atob(this.getAttribute('data-html')));this.contentDocument.close();\" allowfullscreen webkitallowfullscreen mozallowfullscreen></iframe></div></div>"
      ],
      "text/plain": [
       "<folium.folium.Map at 0x1e7f9e9ffc8>"
      ]
     },
     "execution_count": 831,
     "metadata": {},
     "output_type": "execute_result"
    }
   ],
   "source": [
    "basemap"
   ]
  },
  {
   "cell_type": "markdown",
   "metadata": {},
   "source": [
    "### Ajouter des marqueurs pour tous les noeuds du reseau avec folium.Marker"
   ]
  },
  {
   "cell_type": "code",
   "execution_count": 832,
   "metadata": {},
   "outputs": [],
   "source": [
    "for i in Graphe.node:\n",
    "    folium.Marker([Graphe.node[i]['latitude'],Graphe.node[i]['longitude']],tooltip = 'Population '+str(Graphe.node[i]['population'])).add_to(basemap)"
   ]
  },
  {
   "cell_type": "code",
   "execution_count": 833,
   "metadata": {},
   "outputs": [
    {
     "data": {
      "text/html": [
       "<div style=\"width:100%;\"><div style=\"position:relative;width:100%;height:0;padding-bottom:60%;\"><span style=\"color:#565656\">Make this Notebook Trusted to load map: File -> Trust Notebook</span><iframe src=\"about:blank\" style=\"position:absolute;width:100%;height:100%;left:0;top:0;border:none !important;\" data-html=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 onload=\"this.contentDocument.open();this.contentDocument.write(atob(this.getAttribute('data-html')));this.contentDocument.close();\" allowfullscreen webkitallowfullscreen mozallowfullscreen></iframe></div></div>"
      ],
      "text/plain": [
       "<folium.folium.Map at 0x1e7f9e9ffc8>"
      ]
     },
     "execution_count": 833,
     "metadata": {},
     "output_type": "execute_result"
    }
   ],
   "source": [
    "basemap"
   ]
  },
  {
   "cell_type": "code",
   "execution_count": 834,
   "metadata": {},
   "outputs": [],
   "source": [
    "'''\n",
    "Cette fonction permet de construire une liste de liste comprenant pour chaque\n",
    "sous-liste ses coordonnées et celles d'un voisin\n",
    "Ces points peuvent etre utilisés pour représenter les lignes dans la carte\n",
    "Input: le graphe\n",
    "Output: Une liste de couples representant les longitudes et latitudes d'un point et d'un de ses voisins\n",
    "'''\n",
    "def construirePointsImage(myGraphe):\n",
    "    points = []\n",
    "    for i in myGraphe.node:\n",
    "        \n",
    "        for neighbor in myGraphe.neighbors(i):\n",
    "            S = []\n",
    "            S.append([myGraphe.node[i][\"latitude\"],myGraphe.node[i][\"longitude\"]])\n",
    "            S.append([myGraphe.node[neighbor][\"latitude\"],myGraphe.node[neighbor][\"longitude\"]])\n",
    "            points.append(S)\n",
    "    return points\n",
    "        \n"
   ]
  },
  {
   "cell_type": "code",
   "execution_count": 835,
   "metadata": {},
   "outputs": [
    {
     "data": {
      "text/plain": [
       "[[[52.379189000000004, 4.899431], [52.092876000000004, 5.104480000000001]],\n",
       " [[52.379189000000004, 4.899431], [52.078663, 4.288787999999999]],\n",
       " [[52.379189000000004, 4.899431], [53.612390000000005, -0.22219]],\n",
       " [[52.092876000000004, 5.104480000000001], [52.379189000000004, 4.899431]],\n",
       " [[52.092876000000004, 5.104480000000001], [52.01667, 4.70833]],\n",
       " [[52.078663, 4.288787999999999], [52.379189000000004, 4.899431]],\n",
       " [[52.078663, 4.288787999999999], [51.9225, 4.47917]],\n",
       " [[52.078663, 4.288787999999999], [51.9775, 4.13333]],\n",
       " [[52.078663, 4.288787999999999], [52.01667, 4.70833]],\n",
       " [[51.9225, 4.47917], [52.078663, 4.288787999999999]],\n",
       " [[51.9225, 4.47917], [52.01667, 4.70833]],\n",
       " [[51.9225, 4.47917], [51.9775, 4.13333]],\n",
       " [[53.612390000000005, -0.22219], [52.379189000000004, 4.899431]],\n",
       " [[53.612390000000005, -0.22219], [53.52285, -1.13116]],\n",
       " [[53.52285, -1.13116], [53.612390000000005, -0.22219]],\n",
       " [[53.52285, -1.13116], [51.509865000000005, -0.118092]],\n",
       " [[51.509865000000005, -0.118092], [53.52285, -1.13116]],\n",
       " [[51.509865000000005, -0.118092], [51.88921, 0.9042100000000001]],\n",
       " [[51.9775, 4.13333], [52.078663, 4.288787999999999]],\n",
       " [[51.9775, 4.13333], [51.96375, 1.3511]],\n",
       " [[51.9775, 4.13333], [51.9225, 4.47917]],\n",
       " [[51.96375, 1.3511], [51.9775, 4.13333]],\n",
       " [[51.96375, 1.3511], [52.05917, 1.15545]],\n",
       " [[52.05917, 1.15545], [51.96375, 1.3511]],\n",
       " [[52.05917, 1.15545], [51.88921, 0.9042100000000001]],\n",
       " [[51.88921, 0.9042100000000001], [52.05917, 1.15545]],\n",
       " [[51.88921, 0.9042100000000001], [51.509865000000005, -0.118092]],\n",
       " [[52.01667, 4.70833], [51.9225, 4.47917]],\n",
       " [[52.01667, 4.70833], [52.092876000000004, 5.104480000000001]],\n",
       " [[52.01667, 4.70833], [52.078663, 4.288787999999999]]]"
      ]
     },
     "execution_count": 835,
     "metadata": {},
     "output_type": "execute_result"
    }
   ],
   "source": [
    "coordonneesvoisins = construirePointsImage(Graphe)\n",
    "coordonneesvoisins"
   ]
  },
  {
   "cell_type": "markdown",
   "metadata": {},
   "source": [
    "### TODO: Visualiser une carte du graphe avec ses noeuds et les arcs sous forme lignes"
   ]
  },
  {
   "cell_type": "code",
   "execution_count": 836,
   "metadata": {},
   "outputs": [],
   "source": [
    "'''\n",
    "A faire\n",
    "Permet de visualiser une carte du graphe avec ses noeuds et les arcs sous forme lignes\n",
    "Prend en entrée:\n",
    "- un graphe\n",
    "- les coordonnées entre chaque point et ses voisins calculées avec la fonction ci-dessus\n",
    "- Une location par defaut\n",
    "- Un paramétrage de folium\n",
    "Output: la carte\n",
    "'''\n",
    "        \n",
    "def visualiserFolium(myGraphe, points, locationpardefaut = [52.3791890, 4.899431],tiles='Stamen Toner' ):\n",
    "    for i in Graphe.node:\n",
    "        folium.Marker([Graphe.node[i]['latitude'],Graphe.node[i]['longitude']],tooltip = 'Population '+str(Graphe.node[i]['population'])).add_to(basemap)\n",
    "        print([Graphe.node[i]['latitude'],Graphe.node[i]['longitude']])\n",
    "    arc=folium.PolyLine(locations=points,color='red')\n",
    "    basemap.add_child(arc)  \n",
    "    return(basemap) \n",
    "    \n",
    "    "
   ]
  },
  {
   "cell_type": "code",
   "execution_count": 837,
   "metadata": {},
   "outputs": [
    {
     "name": "stdout",
     "output_type": "stream",
     "text": [
      "[52.379189000000004, 4.899431]\n",
      "[52.092876000000004, 5.104480000000001]\n",
      "[52.078663, 4.288787999999999]\n",
      "[51.9225, 4.47917]\n",
      "[53.612390000000005, -0.22219]\n",
      "[53.52285, -1.13116]\n",
      "[51.509865000000005, -0.118092]\n",
      "[51.9775, 4.13333]\n",
      "[51.96375, 1.3511]\n",
      "[52.05917, 1.15545]\n",
      "[51.88921, 0.9042100000000001]\n",
      "[52.01667, 4.70833]\n"
     ]
    },
    {
     "data": {
      "text/html": [
       "<div style=\"width:100%;\"><div style=\"position:relative;width:100%;height:0;padding-bottom:60%;\"><span style=\"color:#565656\">Make this Notebook Trusted to load map: File -> Trust Notebook</span><iframe src=\"about:blank\" style=\"position:absolute;width:100%;height:100%;left:0;top:0;border:none !important;\" data-html=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 onload=\"this.contentDocument.open();this.contentDocument.write(atob(this.getAttribute('data-html')));this.contentDocument.close();\" allowfullscreen webkitallowfullscreen mozallowfullscreen></iframe></div></div>"
      ],
      "text/plain": [
       "<folium.folium.Map at 0x1e7f9e9ffc8>"
      ]
     },
     "execution_count": 837,
     "metadata": {},
     "output_type": "execute_result"
    }
   ],
   "source": [
    "visualiserFolium(Graphe,coordonneesvoisins)"
   ]
  },
  {
   "cell_type": "markdown",
   "metadata": {},
   "source": [
    "### Partie 2\n",
    "* Dans cette partie vous allez implémenter des ADT: Noeud, Graphe, File, Pile\n",
    "\n"
   ]
  },
  {
   "cell_type": "markdown",
   "metadata": {},
   "source": [
    "#### Implementer la classe Noeud\n",
    "* Un noeud a un nom\n",
    "* Un noeud a des attributs sous forme de dictionnaire pyton avec comme cle:\n",
    "    une liste de coordonnes ( latitude, longitude)\n",
    "    \n",
    "    la taille de la population\n",
    "* La liste des voisins sera initialisée à la création des arcs dans le graphe \n",
    "*  Vous ajouterez toutes les methodes nécessaires \n",
    "        \n",
    "    \n",
    "        "
   ]
  },
  {
   "cell_type": "code",
   "execution_count": 838,
   "metadata": {},
   "outputs": [],
   "source": [
    "class Noeud:\n",
    "    def __init__(self,name):\n",
    "        self.name = name['name']\n",
    "        self.attributs = { \"coordonnees\": [(name['longitude']),(name['latitude'])] , \"population\": int(name['population']) }\n",
    "        self.listeNomVoisin = []\n",
    "        \n",
    "    def setAttribut(self,key, values):\n",
    "        \n",
    "        lati = attributs[i]['latitude']\n",
    "        longi = attributs[i]['longitude']\n",
    "        cordonnes = (lati,longi)\n",
    "        population = attributs[i]['population']\n",
    "        pass\n",
    "        \n",
    "    def getAttribut(self,key):\n",
    "        \n",
    "        if (key == 'coordonnees') :\n",
    "            return self.attributs['coordonnees' ]\n",
    "        if (key == 'population') :\n",
    "            return self.attributs['population']\n",
    "\n",
    "    def getName(self):\n",
    "        return(self.name)\n",
    "        \n",
    "    '''\n",
    "    Deux noeuds sont egaux s'ils ont même name\n",
    "    '''\n",
    "    def egal(self, noeud):\n",
    "        return self.getName() == noeud.getName()\n",
    "        "
   ]
  },
  {
   "cell_type": "markdown",
   "metadata": {},
   "source": [
    "#### Implementer la classe Graphe\n",
    "* Les noeuds des graphes doivent être initialisé à l'aide du fichier \n",
    "transport-node.csv ( vous n'utiliserez plus pandas). Vous initiliserez aussi les attributs\n",
    "* Les arcs des graphes doivent être initialisé à l'aide du fichier \n",
    "transport-relations.csv ( vous n'utiliserez plus pandas). Vous initiliserez aussi les attributs\n",
    "* On doit pouvoir retrouver les coordonnées d'un noeud grâce à son nom\n",
    "* On doit avoir la liste des noeuds voisins d'un noeud donné. Le graphe est non orienté donc le voisinage est reciproque\n",
    "        "
   ]
  },
  {
   "cell_type": "code",
   "execution_count": 839,
   "metadata": {},
   "outputs": [],
   "source": [
    "class Graphe:\n",
    "    '''\n",
    "    Les noeuds seront mis dans une liste\n",
    "    Les arcs forment un dictionnaire avec comme clé les noms des noeuds et comme valeurs une liste de noeud\n",
    "    '''\n",
    "    def __init__(self):\n",
    "        self.noeuds = []\n",
    "        self.arcs = {}\n",
    "    '''\n",
    "    Creer les neouds avec un fichier csv\n",
    "    On peut mettre tous les noeuds dans une liste\n",
    "    On doit attribuer à chaque noeud ses attributs: latitude, longitude, population\n",
    "    On initialise le dictionnaire des arcs en creant la cle avec le nom du noeud et la valeur avec une liste vide\n",
    "    N'oubliez pas de gerer les exceptions\n",
    "    '''    \n",
    "    def creerNoeuds(self,fichiernoeuds):\n",
    "        with open(fichiernoeuds) as f:\n",
    "            reader = csv.reader(f)\n",
    "            next(reader)\n",
    "\n",
    "            data = []\n",
    "            for row in reader:\n",
    "                data.append({\n",
    "                \"name\": row[0],\n",
    "                \"longitude\": float (row[1]),\n",
    "                 \"latitude\": float(row[2]),\n",
    "                 \"population\": row[3],\n",
    "\n",
    "            })\n",
    "            self.noeuds = data\n",
    "        \n",
    "\n",
    "        \n",
    "    '''\n",
    "    - Creer les arcs avec un  fichier csv\n",
    "    - Utilisez un dictionnaire pour les arcs\n",
    "    - N'oubliez pas que le graphe est non oriente.\n",
    "    - Pour chaque noeud on mettra des tuples dans la liste de ses voisins: (nom du voisin, cout du chemin)\n",
    "    - Gerer les exceptions\n",
    "    '''   \n",
    "    def creerArc(self, fichierarcs):\n",
    "        with open('./data/transport-relationships.csv') as f:\n",
    "            readers = csv.reader(f)\n",
    "            next(readers)\n",
    "\n",
    "            datas = []\n",
    "            for row in readers:\n",
    "                datas.append({\n",
    "                    \"name\": row[0],\n",
    "                    \"voisins\":  (row[1],int(row[3])),\n",
    "\n",
    "            })\n",
    "            self.arcs = datas\n",
    "            \n",
    "        \n",
    "    '''\n",
    "    Retrouver un noeud à partir de son nom\n",
    "    '''   \n",
    "    def getNoeud(self,name):\n",
    "        a = self.noeuds\n",
    "        b=0\n",
    "        for i in range(len(a)):\n",
    "            if a[i]['name'] == name: \n",
    "                b = a[i]\n",
    "        return b\n",
    "    '''\n",
    "    Trouver les noeuds voisins d'un noeud donne\n",
    "    '''\n",
    "    def getVoisins(self,noeud):\n",
    "        a = self.noeuds\n",
    "        b = self.arcs\n",
    "        c = []\n",
    "        d = []\n",
    "        for i in range(len(b)):\n",
    "            if b[i]['voisins'][0] == noeud: \n",
    "                c.append(b[i]['name'])\n",
    "            if b[i]['name'] == noeud: \n",
    "                c.append(b[i]['voisins'][0])\n",
    "        \n",
    "        for i in range (len(a)):\n",
    "            if a[i]['name'] in c:\n",
    "                d.append(a[i])\n",
    "        return d\n",
    "        \n",
    "    \n",
    "    '''\n",
    "    Recuperer pour un noeud donne les latitudes et longitudes de ses voisins\n",
    "    Constituer des pairs de listes de coordonnées entre le point et ses voisins\n",
    "    pour une representation sous folium\n",
    "    \n",
    "    '''\n",
    "    def getCoordonnesVoisins(self, noeud):\n",
    "        \n",
    "        \n",
    "        listecoord = []\n",
    "        # voise est un tuple et je veux recuperer le nom du noeud voisin \n",
    "        # qui est le premier lement du tuple\n",
    "        \n",
    "        for voise in self.getVoisins(noeud):\n",
    "            # Recupere un noeud voisin\n",
    "            noeudVoisin = self.getNoeud(voise[0])\n",
    "            listecoord.append([noeud.getAttribut('coordonnees'),noeudVoisin.getAttribut('coordonnees')])\n",
    "        return listecoord\n",
    "    \n",
    "    \n",
    "    \n",
    "    def getCoordonnesVoi(self, noeud):\n",
    "        listecoord = []\n",
    "        n = self.getNoeud(noeud)\n",
    "        a = 0\n",
    "        nn = 0\n",
    "        nn = Noeud(n)\n",
    "        nnn = 0\n",
    "        l = len(self.getVoisins(noeud))\n",
    "        ll = self.getVoisins(noeud)\n",
    "        # voise est un tuple et je veux recuperer le nom du noeud voisin \n",
    "        # qui est le premier lement du tuple\n",
    "        for voise in range (l): \n",
    "            nnn = Noeud(ll[a])\n",
    "            # Recupere un noeud voisin\n",
    "            listecoord.append([nn.getAttribut('coordonnees'),nnn.getAttribut('coordonnees')])\n",
    "            a = a + 1\n",
    "        return listecoord\n",
    "    \n",
    "    '''\n",
    "    Recuperer les coordonnees d'une liste de neouds pour visualiser sous folium\n",
    "    Prend en entrée une liste de nom de noeud\n",
    "    Retourne une liste de sous-listes à deux elements de coordonnées\n",
    "    '''\n",
    "    def getListeCoordonnees(self,listeNoeuds):\n",
    "        coord = []\n",
    "        l = len(listeNoeuds)\n",
    "        ll = listeNoeuds\n",
    "        lll = 0\n",
    "        a = 0\n",
    "        for name in listeNoeuds:\n",
    "            lll = Noeud(ll[a])\n",
    "            llll = Noeud(ll[a-1])\n",
    "            coord.append(lll.getAttribut('coordonnees'))\n",
    "            a = a + 1\n",
    "        return coord\n",
    "    \n",
    "    '''\n",
    "    Visualiser les noeuds et les arcs sous folium\n",
    "    Entree: le parametre explored sera utilisé pour les parcours de graphe\n",
    "    '''\n",
    "    \n",
    "    def visualiserFolium(self, locationpardefaut = [52.3791890, 4.899431],tiles='Stamen Toner',explored = None ):\n",
    "    \n",
    "        basemap = folium.Map(location= locationpardefaut,zoom_start=6,tiles=tiles)\n",
    "        \n",
    "        \n",
    "        a = 0\n",
    "        for i in self.noeuds:\n",
    "            i = Noeud(self.noeuds[a])\n",
    "            folium.Marker(i.getAttribut('coordonnees'),tooltip = 'Population'+str(i.getAttribut('population'))).add_to(basemap)\n",
    "            folium.PolyLine(self.getCoordonnesVoi(i.getName()), color=\"red\", weight=2.5, opacity=1).add_to(basemap)\n",
    "            a = a + 1\n",
    "            \n",
    "            if explored != None:\n",
    "                folium.PolyLine(self.getListeCoordonnees(explored), color=\"green\", weight=2.5, opacity=1).add_to(basemap)\n",
    "        return basemap"
   ]
  },
  {
   "cell_type": "code",
   "execution_count": 840,
   "metadata": {},
   "outputs": [],
   "source": [
    "G = Graphe()\n",
    "G.creerNoeuds('./data/transport-nodes.csv')"
   ]
  },
  {
   "cell_type": "code",
   "execution_count": 841,
   "metadata": {},
   "outputs": [],
   "source": [
    "G.creerArc('./data/transport-relationships.csv')"
   ]
  },
  {
   "cell_type": "code",
   "execution_count": 842,
   "metadata": {},
   "outputs": [
    {
     "data": {
      "text/plain": [
       "[{'name': 'Amsterdam', 'voisins': ('Utrecht', 46)},\n",
       " {'name': 'Amsterdam', 'voisins': ('Den Haag', 59)},\n",
       " {'name': 'Den Haag', 'voisins': ('Rotterdam', 26)},\n",
       " {'name': 'Amsterdam', 'voisins': ('Immingham', 369)},\n",
       " {'name': 'Immingham', 'voisins': ('Doncaster', 74)},\n",
       " {'name': 'Doncaster', 'voisins': ('London', 277)},\n",
       " {'name': 'Hoek van Holland', 'voisins': ('Den Haag', 27)},\n",
       " {'name': 'Felixstowe', 'voisins': ('Hoek van Holland', 207)},\n",
       " {'name': 'Ipswich', 'voisins': ('Felixstowe', 22)},\n",
       " {'name': 'Colchester', 'voisins': ('Ipswich', 32)},\n",
       " {'name': 'London', 'voisins': ('Colchester', 106)},\n",
       " {'name': 'Gouda', 'voisins': ('Rotterdam', 25)},\n",
       " {'name': 'Gouda', 'voisins': ('Utrecht', 35)},\n",
       " {'name': 'Den Haag', 'voisins': ('Gouda', 32)},\n",
       " {'name': 'Hoek van Holland', 'voisins': ('Rotterdam', 33)}]"
      ]
     },
     "execution_count": 842,
     "metadata": {},
     "output_type": "execute_result"
    }
   ],
   "source": [
    "G.arcs"
   ]
  },
  {
   "cell_type": "code",
   "execution_count": 843,
   "metadata": {},
   "outputs": [
    {
     "data": {
      "text/plain": [
       "[[51.9775, 4.13333], [52.05917, 1.15545]]"
      ]
     },
     "execution_count": 843,
     "metadata": {},
     "output_type": "execute_result"
    }
   ],
   "source": [
    "\n",
    "G.getListeCoordonnees(a)\n",
    "\n"
   ]
  },
  {
   "cell_type": "code",
   "execution_count": 844,
   "metadata": {},
   "outputs": [
    {
     "data": {
      "text/plain": [
       "[{'name': 'Doncaster',\n",
       "  'longitude': 53.52285,\n",
       "  'latitude': -1.13116,\n",
       "  'population': '302400'},\n",
       " {'name': 'Colchester',\n",
       "  'longitude': 51.88921,\n",
       "  'latitude': 0.90421,\n",
       "  'population': '104390'}]"
      ]
     },
     "execution_count": 844,
     "metadata": {},
     "output_type": "execute_result"
    }
   ],
   "source": [
    "a = G.getVoisins('London')\n",
    "a"
   ]
  },
  {
   "cell_type": "code",
   "execution_count": 845,
   "metadata": {},
   "outputs": [
    {
     "data": {
      "text/plain": [
       "[[[52.01667, 4.70833], [52.092876, 5.10448]],\n",
       " [[52.01667, 4.70833], [52.078663, 4.288788]],\n",
       " [[52.01667, 4.70833], [51.9225, 4.47917]]]"
      ]
     },
     "execution_count": 845,
     "metadata": {},
     "output_type": "execute_result"
    }
   ],
   "source": [
    "b = G.getCoordonnesVoi('Gouda')\n",
    "b"
   ]
  },
  {
   "cell_type": "code",
   "execution_count": 846,
   "metadata": {},
   "outputs": [
    {
     "data": {
      "text/html": [
       "<div style=\"width:100%;\"><div style=\"position:relative;width:100%;height:0;padding-bottom:60%;\"><span style=\"color:#565656\">Make this Notebook Trusted to load map: File -> Trust Notebook</span><iframe src=\"about:blank\" style=\"position:absolute;width:100%;height:100%;left:0;top:0;border:none !important;\" data-html=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 onload=\"this.contentDocument.open();this.contentDocument.write(atob(this.getAttribute('data-html')));this.contentDocument.close();\" allowfullscreen webkitallowfullscreen mozallowfullscreen></iframe></div></div>"
      ],
      "text/plain": [
       "<folium.folium.Map at 0x1e7f9db3648>"
      ]
     },
     "execution_count": 846,
     "metadata": {},
     "output_type": "execute_result"
    }
   ],
   "source": [
    "G. visualiserFolium()"
   ]
  },
  {
   "cell_type": "code",
   "execution_count": 847,
   "metadata": {},
   "outputs": [
    {
     "data": {
      "text/plain": [
       "{'name': 'Utrecht',\n",
       " 'longitude': 52.092876,\n",
       " 'latitude': 5.10448,\n",
       " 'population': '334176'}"
      ]
     },
     "execution_count": 847,
     "metadata": {},
     "output_type": "execute_result"
    }
   ],
   "source": [
    "G.noeuds[1]"
   ]
  },
  {
   "cell_type": "code",
   "execution_count": null,
   "metadata": {},
   "outputs": [],
   "source": []
  },
  {
   "cell_type": "markdown",
   "metadata": {},
   "source": [
    "### Partie 3\n",
    "* Implementer les classes File et Pile en utilisant les list en python\n",
    "* Quelques liens interessants:\n",
    "https://openclassrooms.com/fr/courses/900279-apprenez-a-programmer-avec-ada/2144666-les-types-abstraits-de-donnees-listes-files-piles\n",
    "\n",
    "https://fr.wikipedia.org/wiki/Type_abstrait\n",
    "\n",
    "http://www.csi.uottawa.ca/~flocchin/CSI2510/CSI2510PileFile.pdf\n",
    "\n"
   ]
  },
  {
   "cell_type": "code",
   "execution_count": 848,
   "metadata": {},
   "outputs": [],
   "source": [
    "\n",
    "\n",
    "class Pile():\n",
    "    '''\n",
    "    Classe Pile: voir les definitions ci-dessous\n",
    "    La classe dispose d'une structure de type list pour ranger les données\n",
    "    Les consultations, les insertions, les suppressions se font du même cote\n",
    "    Dernier arrive premier servi : LIFO\n",
    "    '''\n",
    "    def __init__(self):\n",
    "        self.elements = []\n",
    "    '''\n",
    "    Insere un objet en tete de la pile\n",
    "    '''\n",
    "    def push(self,noeud):\n",
    "         return self.elements.insert(0,noeud)\n",
    "        \n",
    "    '''\n",
    "    Retourne True si  un noeud est dans la pile\n",
    "    '''\n",
    "    \n",
    "    def contains_noeud(self, name):\n",
    "        for i in range(len(self.elements)):\n",
    "            l = self.elements[i]\n",
    "            l = Noeud(l)\n",
    "            name = Noeud(name)\n",
    "            return l.egal(name)\n",
    "        \n",
    "                \n",
    "    '''\n",
    "    Retourne true si la pile est vide\n",
    "    '''\n",
    "    def empty(self):\n",
    "        if self.elements == []:\n",
    "            return True\n",
    "        else:\n",
    "            return False\n",
    "       \n",
    "    '''\n",
    "    Retourne et supprime l'element en tete de pile\n",
    "    Retourne une exception si la pile est vide\n",
    "    '''\n",
    "    def remove(self):\n",
    "        try :            \n",
    "            if self.empty():\n",
    "                raise ValueError\n",
    "            else:\n",
    "                sup = self.elements.pop(0)\n",
    "            return  sup   \n",
    "    \n",
    "        except ValueError:\n",
    "            print('la liste est vide')\n",
    "       \n",
    "\n",
    "\n"
   ]
  },
  {
   "cell_type": "code",
   "execution_count": 849,
   "metadata": {},
   "outputs": [
    {
     "data": {
      "text/plain": [
       "False"
      ]
     },
     "execution_count": 849,
     "metadata": {},
     "output_type": "execute_result"
    }
   ],
   "source": [
    "w.empty()"
   ]
  },
  {
   "cell_type": "code",
   "execution_count": 850,
   "metadata": {},
   "outputs": [
    {
     "name": "stdout",
     "output_type": "stream",
     "text": [
      "[20, 10]\n",
      "[10]\n"
     ]
    }
   ],
   "source": [
    "w = Pile()\n",
    "w.push(10)\n",
    "w.push(20)\n",
    "print(w.elements)\n",
    "w.remove()\n",
    "print(w.elements)\n"
   ]
  },
  {
   "cell_type": "code",
   "execution_count": 851,
   "metadata": {},
   "outputs": [],
   "source": [
    "\n",
    "class File(Pile):\n",
    "    '''\n",
    "    Classe File: voir les definitions ci-dessous\n",
    "    La classe dispose d'une structure de type list pour ranger les données\n",
    "    Les éléments sont enfilés (insérés) du coté arrière et défilés (retirés)\n",
    "    du coté avant\n",
    "    Premier arrive premier servi : FIFO\n",
    "    File et Pile peuvent partager certaines methodes donc utilisez l'heritage pour definir\n",
    "    la classe File. \n",
    "    Normalement vous ne devez changer l'implementation d'une seule methode\n",
    "    '''\n",
    "    \n",
    "\n",
    "    def push(self,noeud):\n",
    "        \n",
    "        return self.elements.append(noeud)\n",
    " \n",
    "        \n",
    "        "
   ]
  },
  {
   "cell_type": "code",
   "execution_count": 852,
   "metadata": {},
   "outputs": [
    {
     "data": {
      "text/plain": [
       "[20]"
      ]
     },
     "execution_count": 852,
     "metadata": {},
     "output_type": "execute_result"
    }
   ],
   "source": [
    "z = File()\n",
    "z.push(10)\n",
    "z.push(20)\n",
    "z.remove()\n",
    "z.elements"
   ]
  },
  {
   "cell_type": "markdown",
   "metadata": {},
   "source": [
    "### Partie 3\n",
    "* Implementer les algorithmes de parcours de graphe: BFS ET DFS\n",
    "* Algorithme BFS et DFS\n",
    "https://fr.wikipedia.org/wiki/Algorithme_de_parcours_en_largeur\n",
    "https://fr.wikipedia.org/wiki/Algorithme_de_parcours_en_profondeur\n",
    "Les deux parcours utilisent le même algorithme mais différent suivant la structure de données utilisée comme frontiére. La frontiére est une structure de données qui permet manipuler les noeuds intermediaires. \n",
    "#### Algorithme\n",
    "* On met le noeud source dans la frontiére\n",
    "* On cree une structure vide devant contenir les noeuds explorés\n",
    "* Repeter\n",
    "    * Si la frontiere est vide pas de solution\n",
    "    * Prendre un noeud dans la frontiere ( idée de suppression)\n",
    "    * Si le noeud est le noeud destination alors solution\n",
    "    * Sinon:\n",
    "        * Mettre le noeud dans l'ensemble des noeuds deja explorés\n",
    "        * Ajouter les voisins dans la frontiére s'ils ne sont pas dans la frontiere et s'ils ne sont pas deja explores\n",
    "\n"
   ]
  },
  {
   "cell_type": "code",
   "execution_count": 878,
   "metadata": {},
   "outputs": [],
   "source": [
    "'''\n",
    "Implémenter le parcours en profondeur non recursif entre deux noeuds\n",
    "Prend en parametre:\n",
    "- un graphe\n",
    "- un noeud source\n",
    "- un noeud destination\n",
    "Output:\n",
    "une liste contenant les noms des noeuds explorés pour aller du noeud source vers le noeud destination \n",
    "Vous completerez certaines parties du code\n",
    "'''\n",
    "\n",
    "def parcoursDFS(myGraphe,noeudSRC,noeudDST):\n",
    "        \"\"\"Trouver un parcours DFS entre noeudSRC et noeudDST\"\"\"\n",
    "\n",
    "        # Le nombre de noeuds explorés\n",
    "        num_explored = 0\n",
    "\n",
    "        # Initialisation de la frontiere avec le noeud source\n",
    "        \n",
    "        frontiere = File() \n",
    "        frontiere.push(noeudSRC)\n",
    "\n",
    "        # Initialisation de la liste des noeuds explorés\n",
    "        explored = []\n",
    "\n",
    "        # On boucle jusuq'à trouver la solution\n",
    "        while True:\n",
    "\n",
    "            # S'il n'y a aucun noeud dans la frontiére alors pas de solution\n",
    "            if frontiere.empty():\n",
    "                raise Exception(\"no solution\")\n",
    "\n",
    "            # Choisir un node dans la frontiere\n",
    "            node = frontiere.remove()\n",
    "            nod = Noeud(node)\n",
    "            noeudDS = Noeud(noeudDST)\n",
    "            num_explored += 1\n",
    "\n",
    "            # Si ce noeud est le noeud destination\n",
    "            if nod.egal(noeudDS):\n",
    "                \n",
    "                # Ajouter le aux noeuds deja explorés\n",
    "                explored.append(noeudDST)\n",
    "                \n",
    "                return explored, num_explored\n",
    "\n",
    "            # Marquer le noeud comme explore\n",
    "            explored.append(node)\n",
    "\n",
    "            # Ajouter tous les voisins du noeud à la frontiere\n",
    "            l = len(myGraphe.getVoisins(nod.getName()))\n",
    "            ll = myGraphe.getVoisins(nod.getName())\n",
    "            a = 0\n",
    "            for voise in range (l) :\n",
    "                \n",
    "                lll = Noeud(ll[a])\n",
    "                if not frontiere.contains_noeud(ll[a]) and ll[a] not in explored:\n",
    "                    \n",
    "                    frontiere.push(myGraphe.getNoeud(lll.getName()))\n",
    "                a = a + 1\n"
   ]
  },
  {
   "cell_type": "code",
   "execution_count": 854,
   "metadata": {},
   "outputs": [
    {
     "data": {
      "text/plain": [
       "{'name': 'Doncaster',\n",
       " 'longitude': 53.52285,\n",
       " 'latitude': -1.13116,\n",
       " 'population': '302400'}"
      ]
     },
     "execution_count": 854,
     "metadata": {},
     "output_type": "execute_result"
    }
   ],
   "source": [
    "G.noeuds[4]"
   ]
  },
  {
   "cell_type": "code",
   "execution_count": 880,
   "metadata": {},
   "outputs": [
    {
     "data": {
      "text/plain": [
       "[{'name': 'Immingham',\n",
       "  'longitude': 53.61239,\n",
       "  'latitude': -0.22219,\n",
       "  'population': '9642'},\n",
       " {'name': 'London',\n",
       "  'longitude': 51.509865,\n",
       "  'latitude': -0.118092,\n",
       "  'population': '8787892'}]"
      ]
     },
     "execution_count": 880,
     "metadata": {},
     "output_type": "execute_result"
    }
   ],
   "source": [
    "a = G.getVoisins('Doncaster')\n",
    "a"
   ]
  },
  {
   "cell_type": "code",
   "execution_count": 881,
   "metadata": {},
   "outputs": [
    {
     "data": {
      "text/plain": [
       "[{'name': 'Doncaster',\n",
       "  'longitude': 53.52285,\n",
       "  'latitude': -1.13116,\n",
       "  'population': '302400'},\n",
       " {'name': 'Immingham',\n",
       "  'longitude': 53.61239,\n",
       "  'latitude': -0.22219,\n",
       "  'population': '9642'},\n",
       " {'name': 'London',\n",
       "  'longitude': 51.509865,\n",
       "  'latitude': -0.118092,\n",
       "  'population': '8787892'},\n",
       " {'name': 'Amsterdam',\n",
       "  'longitude': 52.379189,\n",
       "  'latitude': 4.899431,\n",
       "  'population': '821752'},\n",
       " {'name': 'Colchester',\n",
       "  'longitude': 51.88921,\n",
       "  'latitude': 0.90421,\n",
       "  'population': '104390'},\n",
       " {'name': 'Utrecht',\n",
       "  'longitude': 52.092876,\n",
       "  'latitude': 5.10448,\n",
       "  'population': '334176'},\n",
       " {'name': 'Den Haag',\n",
       "  'longitude': 52.078663,\n",
       "  'latitude': 4.288788,\n",
       "  'population': '514861'}]"
      ]
     },
     "execution_count": 881,
     "metadata": {},
     "output_type": "execute_result"
    }
   ],
   "source": [
    "list(parcoursDFS(G,G.noeuds[4],G.noeuds[2])[0])"
   ]
  },
  {
   "cell_type": "code",
   "execution_count": 871,
   "metadata": {},
   "outputs": [
    {
     "name": "stdout",
     "output_type": "stream",
     "text": [
      "0\n",
      "0\n",
      "0\n",
      "0\n",
      "0\n",
      "0\n"
     ]
    }
   ],
   "source": [
    "expl = list(parcoursDFS(G,G.noeuds[4],G.noeuds[2])[0])\n",
    "bb = G.arcs\n",
    "cout = 0\n",
    "for i in range (len(expl) - 1): \n",
    "    nom = expl[i]['name']\n",
    "    voisin = expl[i + 1]['name']   \n",
    "    for i in range(len(bb)):\n",
    "        if (nom == bb[i]['name'] and voisin == bb[i]['voisins'][0]) : \n",
    "            cout = cout + bb[i]['voisins'][1]\n",
    "    print(cout)\n"
   ]
  },
  {
   "cell_type": "code",
   "execution_count": 873,
   "metadata": {},
   "outputs": [
    {
     "data": {
      "text/plain": [
       "'Utrecht'"
      ]
     },
     "execution_count": 873,
     "metadata": {},
     "output_type": "execute_result"
    }
   ],
   "source": [
    "bb[0]['voisins'][0]"
   ]
  },
  {
   "cell_type": "code",
   "execution_count": 870,
   "metadata": {},
   "outputs": [
    {
     "data": {
      "text/plain": [
       "[{'name': 'Amsterdam', 'voisins': ('Utrecht', 46)},\n",
       " {'name': 'Amsterdam', 'voisins': ('Den Haag', 59)},\n",
       " {'name': 'Den Haag', 'voisins': ('Rotterdam', 26)},\n",
       " {'name': 'Amsterdam', 'voisins': ('Immingham', 369)},\n",
       " {'name': 'Immingham', 'voisins': ('Doncaster', 74)},\n",
       " {'name': 'Doncaster', 'voisins': ('London', 277)},\n",
       " {'name': 'Hoek van Holland', 'voisins': ('Den Haag', 27)},\n",
       " {'name': 'Felixstowe', 'voisins': ('Hoek van Holland', 207)},\n",
       " {'name': 'Ipswich', 'voisins': ('Felixstowe', 22)},\n",
       " {'name': 'Colchester', 'voisins': ('Ipswich', 32)},\n",
       " {'name': 'London', 'voisins': ('Colchester', 106)},\n",
       " {'name': 'Gouda', 'voisins': ('Rotterdam', 25)},\n",
       " {'name': 'Gouda', 'voisins': ('Utrecht', 35)},\n",
       " {'name': 'Den Haag', 'voisins': ('Gouda', 32)},\n",
       " {'name': 'Hoek van Holland', 'voisins': ('Rotterdam', 33)}]"
      ]
     },
     "execution_count": 870,
     "metadata": {},
     "output_type": "execute_result"
    }
   ],
   "source": [
    "G.arcs"
   ]
  },
  {
   "cell_type": "code",
   "execution_count": 874,
   "metadata": {},
   "outputs": [
    {
     "data": {
      "text/html": [
       "<div style=\"width:100%;\"><div style=\"position:relative;width:100%;height:0;padding-bottom:60%;\"><span style=\"color:#565656\">Make this Notebook Trusted to load map: File -> Trust Notebook</span><iframe src=\"about:blank\" style=\"position:absolute;width:100%;height:100%;left:0;top:0;border:none !important;\" data-html=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 onload=\"this.contentDocument.open();this.contentDocument.write(atob(this.getAttribute('data-html')));this.contentDocument.close();\" allowfullscreen webkitallowfullscreen mozallowfullscreen></iframe></div></div>"
      ],
      "text/plain": [
       "<folium.folium.Map at 0x1e7f9d12288>"
      ]
     },
     "execution_count": 874,
     "metadata": {},
     "output_type": "execute_result"
    }
   ],
   "source": [
    "# Visualisation des arcs en rouge et visualisation des noeuds parcourus pour aller du premier au deuxieme noeud en vert\n",
    "G.visualiserFolium(explored = list(parcoursDFS(G,G.noeuds[4],G.noeuds[2])[0]))"
   ]
  },
  {
   "cell_type": "code",
   "execution_count": null,
   "metadata": {
    "collapsed": true,
    "jupyter": {
     "outputs_hidden": true
    }
   },
   "outputs": [],
   "source": []
  },
  {
   "cell_type": "code",
   "execution_count": 752,
   "metadata": {},
   "outputs": [],
   "source": [
    "#### TODO: Implementer le parcours en profondeur recursif et calculer le coût du chemin\n",
    "\n",
    "def parcoursDFScout(myGraphe,noeudSRC,noeudDST):\n",
    "        \"\"\"Trouver un parcours DFS entre noeudSRC et noeudDST\"\"\"\n",
    "\n",
    "        # Le nombre de noeuds explorés\n",
    "        num_explored = 0\n",
    "\n",
    "        # Initialisation de la frontiere avec le noeud source\n",
    "        \n",
    "        frontiere = File() \n",
    "        frontiere.push(noeudSRC)\n",
    "\n",
    "        # Initialisation de la liste des noeuds explorés\n",
    "        explored = []\n",
    "\n",
    "        # On boucle jusuq'à trouver la solution\n",
    "        while True:\n",
    "\n",
    "            # S'il n'y a aucun noeud dans la frontiére alors pas de solution\n",
    "            if frontiere.empty():\n",
    "                raise Exception(\"no solution\")\n",
    "\n",
    "            # Choisir un node dans la frontiere\n",
    "            node = frontiere.remove()\n",
    "            nod = Noeud(node)\n",
    "            noeudDS = Noeud(noeudDST)\n",
    "            num_explored += 1\n",
    "\n",
    "            # Si ce noeud est le noeud destination\n",
    "            if nod.egal(noeudDS):\n",
    "                \n",
    "                # Ajouter le aux noeuds deja explorés\n",
    "                explored.append(noeudDST)\n",
    "                \n",
    "                return explored, num_explored, cout\n",
    "\n",
    "            # Marquer le noeud comme explore\n",
    "            explored.append(node)\n",
    "\n",
    "            # Ajouter tous les voisins du noeud à la frontiere\n",
    "            l = len(myGraphe.getVoisins(nod.getName()))\n",
    "            ll = myGraphe.getVoisins(nod.getName())\n",
    "            a = 0\n",
    "            for voise in range (l) :\n",
    "                \n",
    "                lll = Noeud(ll[a])\n",
    "                if not frontiere.contains_noeud(ll[a]) and ll[a] not in explored:\n",
    "                    \n",
    "                    frontiere.push(myGraphe.getNoeud(lll.getName()))\n",
    "                a = a + 1"
   ]
  },
  {
   "cell_type": "code",
   "execution_count": 753,
   "metadata": {},
   "outputs": [
    {
     "data": {
      "text/html": [
       "<div style=\"width:100%;\"><div style=\"position:relative;width:100%;height:0;padding-bottom:60%;\"><span style=\"color:#565656\">Make this Notebook Trusted to load map: File -> Trust Notebook</span><iframe src=\"about:blank\" style=\"position:absolute;width:100%;height:100%;left:0;top:0;border:none !important;\" data-html=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 onload=\"this.contentDocument.open();this.contentDocument.write(atob(this.getAttribute('data-html')));this.contentDocument.close();\" allowfullscreen webkitallowfullscreen mozallowfullscreen></iframe></div></div>"
      ],
      "text/plain": [
       "<folium.folium.Map at 0x1e7f9c85e88>"
      ]
     },
     "execution_count": 753,
     "metadata": {},
     "output_type": "execute_result"
    }
   ],
   "source": [
    "# Visualisation des arcs en rouge et visualisation des noeuds parcourus pour aller du premier au deuxieme noeud en vert\n",
    "G.visualiserFolium(explored = list(parcoursDFScout(G,G.noeuds[4],G.noeuds[2])[0]))"
   ]
  },
  {
   "cell_type": "code",
   "execution_count": 438,
   "metadata": {},
   "outputs": [],
   "source": [
    "#### TODO: Implementer le parcours BFS et calculer le coût du chemin"
   ]
  },
  {
   "cell_type": "code",
   "execution_count": 876,
   "metadata": {},
   "outputs": [],
   "source": [
    "'''\n",
    "Implémenter le parcours en largeur non entre deux noeuds\n",
    "'''\n",
    "\n",
    "def parcoursBFS(myGraphe,noeudSRC,noeudDST):\n",
    "    \n",
    "        \"\"\"Trouver un parcours DFS entre noeudSRC et noeudDST\"\"\"\n",
    "        # Le nombre de noeuds explorés\n",
    "        num_explored = 0\n",
    "\n",
    "        # Initialisation de la frontiere avec le noeud source\n",
    "        \n",
    "        frontiere = Pile() \n",
    "        frontiere.push(noeudSRC)\n",
    "\n",
    "        # Initialisation de la liste des noeuds explorés\n",
    "        explored = []\n",
    "\n",
    "        # On boucle jusuq'à trouver la solution\n",
    "        while True:\n",
    "\n",
    "            # S'il n'y a aucun noeud dans la frontiére alors pas de solution\n",
    "            if frontiere.empty():\n",
    "                raise Exception(\"no solution\")\n",
    "\n",
    "            # Choisir un node dans la frontiere\n",
    "            node = frontiere.remove()\n",
    "            nod = Noeud(node)\n",
    "            noeudDS = Noeud(noeudDST)\n",
    "            num_explored += 1\n",
    "\n",
    "            # Si ce noeud est le noeud destination\n",
    "            if nod.egal(noeudDS):\n",
    "                \n",
    "                # Ajouter le aux noeuds deja explorés\n",
    "                explored.append(noeudDST)\n",
    "                \n",
    "                return explored, num_explored\n",
    "\n",
    "            # Marquer le noeud comme explore\n",
    "            explored.append(node)\n",
    "\n",
    "            # Ajouter tous les voisins du noeud à la frontiere\n",
    "            l = len(myGraphe.getVoisins(nod.getName()))\n",
    "            ll = myGraphe.getVoisins(nod.getName())\n",
    "            a = 0\n",
    "            for voise in range (l) :\n",
    "                \n",
    "                lll = Noeud(ll[a])\n",
    "                if not frontiere.contains_noeud(ll[a]) and ll[a] not in explored:\n",
    "                    \n",
    "                    frontiere.push(myGraphe.getNoeud(lll.getName()))\n",
    "                a = a + 1\n",
    "\n",
    "        \n",
    "\n"
   ]
  },
  {
   "cell_type": "code",
   "execution_count": 877,
   "metadata": {},
   "outputs": [
    {
     "data": {
      "text/html": [
       "<div style=\"width:100%;\"><div style=\"position:relative;width:100%;height:0;padding-bottom:60%;\"><span style=\"color:#565656\">Make this Notebook Trusted to load map: File -> Trust Notebook</span><iframe src=\"about:blank\" style=\"position:absolute;width:100%;height:100%;left:0;top:0;border:none !important;\" data-html=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 onload=\"this.contentDocument.open();this.contentDocument.write(atob(this.getAttribute('data-html')));this.contentDocument.close();\" allowfullscreen webkitallowfullscreen mozallowfullscreen></iframe></div></div>"
      ],
      "text/plain": [
       "<folium.folium.Map at 0x1e7f9e10508>"
      ]
     },
     "execution_count": 877,
     "metadata": {},
     "output_type": "execute_result"
    }
   ],
   "source": [
    "G.visualiserFolium(explored = list(parcoursBFS(G,G.noeuds[4],G.noeuds[6])[0]))"
   ]
  },
  {
   "cell_type": "markdown",
   "metadata": {},
   "source": [
    "### Partie 4\n",
    "* Implementer les algorithmes A star où le choix se portera sur le voisin ayant le plus petit coût\n",
    "\n"
   ]
  },
  {
   "cell_type": "markdown",
   "metadata": {},
   "source": [
    "#### TODO: Implementer le parcours avec l'algorithme du Greedy Best First Search. Vous calculerez les coûts de chape noeud par rapport \n",
    "au noeud destination\n",
    "\n",
    "#### TODO: Implementer le parcours avec l'algorithme du A*. Vous calculerez les coûts de chape noeud par rapport \n",
    "au noeud destination et au noeud origine\n",
    "\n",
    "https://www.mygreatlearning.com/blog/best-first-search-bfs/"
   ]
  },
  {
   "cell_type": "code",
   "execution_count": null,
   "metadata": {},
   "outputs": [],
   "source": []
  }
 ],
 "metadata": {
  "kernelspec": {
   "display_name": "Python 3",
   "language": "python",
   "name": "python3"
  },
  "language_info": {
   "codemirror_mode": {
    "name": "ipython",
    "version": 3
   },
   "file_extension": ".py",
   "mimetype": "text/x-python",
   "name": "python",
   "nbconvert_exporter": "python",
   "pygments_lexer": "ipython3",
   "version": "3.7.4"
  }
 },
 "nbformat": 4,
 "nbformat_minor": 4
}
